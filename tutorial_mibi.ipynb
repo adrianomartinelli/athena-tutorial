{
 "cells": [
  {
   "cell_type": "markdown",
   "id": "51cb0117-9e3e-45b0-a322-457ada3f88d9",
   "metadata": {},
   "source": [
    "# ATHENA Tutorial on MIBI Data"
   ]
  },
  {
   "cell_type": "code",
   "execution_count": null,
   "id": "e5208df8-7f52-4c69-ab5a-b2e0f6b29f96",
   "metadata": {},
   "outputs": [],
   "source": [
    "from pathlib import Path\n",
    "\n",
    "import matplotlib.pyplot as plt\n",
    "import seaborn as sns\n",
    "import spatialHeterogeneity as sh\n",
    "from spatialOmics import SpatialOmics\n",
    "from tqdm import tqdm\n",
    "\n",
    "root = Path()\n",
    "\n",
    "sel1 = ['14', '33', '20', '29']\n",
    "sel2 = ['5', '35', '4', '28']\n",
    "spls = sel1 + sel2\n",
    "\n",
    "attr = 'group_id'"
   ]
  },
  {
   "cell_type": "markdown",
   "id": "43485325-970f-435b-8b40-edf6d54f7e05",
   "metadata": {},
   "source": [
    "## Data\n",
    "Download the pre-processed data set. I combined the data from https://www.angelolab.com/mibi-data and https://mibi-share.ionpath.com/tracker/imageset (see [load-mibi-data.py]('./load-mibi-data.py'))"
   ]
  },
  {
   "cell_type": "code",
   "execution_count": null,
   "id": "0c26c2a3-64d4-4ad1-be4a-1e760fcd22d7",
   "metadata": {},
   "outputs": [],
   "source": [
    "so = sh.dataset.mibi()\n",
    "# so = sh.dataset.mibi_pop()  # load populated MIBI dataset"
   ]
  },
  {
   "cell_type": "code",
   "execution_count": null,
   "id": "808c79cc-2674-4b7d-bba9-5c21b86ced0b",
   "metadata": {},
   "outputs": [],
   "source": [
    "## Visualisation\n",
    "ATHENA "
   ]
  },
  {
   "cell_type": "code",
   "execution_count": null,
   "id": "bab1c0a6-356c-435c-bec1-502ff2e64cc4",
   "metadata": {},
   "outputs": [],
   "source": [
    "# %%\n",
    "sh.pl.napari_viewer(so, '1', ['Ta', 'Si', 'H3K25me3', 'dsDNA', 'CD45', 'Background'], attrs_key='channel',\n",
    "                    index_key='stack_index')\n",
    "\n",
    "# to load all channels\n",
    "# sh.pl.napari_viewer(so, '1', so.var['1'].channel, attrs_key='channel', index_key='stack_index')"
   ]
  },
  {
   "cell_type": "code",
   "execution_count": null,
   "id": "8ce67abd-b2d6-4266-bea7-4b2409fb871e",
   "metadata": {},
   "outputs": [],
   "source": [
    "# %%\n",
    "for spl in spls:\n",
    "    if spl in so.masks:\n",
    "        sh.pp.extract_centroids(so, spl)\n",
    "\n",
    "fig, axs = plt.subplots(1, 2, figsize=(9, 4))\n",
    "sh.pl.spatial(so, spl, None, ax=axs[0])\n",
    "sh.pl.spatial(so, spl, 'dsDNA', ax=axs[1])\n",
    "fig.show()"
   ]
  },
  {
   "cell_type": "code",
   "execution_count": null,
   "id": "37dc7585-1c86-4d2d-be37-a68ed8f4baa6",
   "metadata": {},
   "outputs": [],
   "source": [
    "# %% explore radius\n",
    "from scipy.spatial.distance import cdist\n",
    "from spatialHeterogeneity.graph_builder.constants import GRAPH_BUILDER_DEFAULT_PARAMS\n",
    "\n",
    "# get an impression of the number of neighbors for different radii\n",
    "df = so.obs[spl][['x', 'y']]\n",
    "radius = 50\n",
    "cell2cell_dists = cdist(df, df)\n",
    "g = plt.hist((cell2cell_dists <= radius).sum(1))\n",
    "plt.show()\n",
    "\n",
    "config_radius = GRAPH_BUILDER_DEFAULT_PARAMS['radius']\n",
    "config_radius['builder_params']['radius'] = radius"
   ]
  },
  {
   "cell_type": "code",
   "execution_count": null,
   "id": "aaeb11be-4391-4fad-9d94-555078938594",
   "metadata": {},
   "outputs": [],
   "source": [
    "# %% compute graphs\n",
    "for spl in spls:\n",
    "    if spl in so.masks:\n",
    "        try:\n",
    "            sh.graph.build_graph(so, spl, 'radius', config=config_radius)\n",
    "            sh.graph.build_graph(so, spl, 'contact')\n",
    "        except Exception as e:\n",
    "            print(f'{spl} had exception:\\n{e}')\n",
    "\n",
    "fig, axs = plt.subplots(figsize=(16, 16))\n",
    "sh.pl.spatial(so, spl, 'SampleID', edges=True, graph_key='radius', ax=axs, cbar=False)\n",
    "fig.show()"
   ]
  },
  {
   "cell_type": "code",
   "execution_count": null,
   "id": "c78d047a-1861-4b0d-944c-6b022db5edb7",
   "metadata": {},
   "outputs": [],
   "source": [
    "# %% compute metrics at a sample level\n",
    "for spl in spls:\n",
    "    sh.metrics.richness(so, spl, attr, local=False, graph_key='contact')\n",
    "    sh.metrics.shannon(so, spl, attr, local=False, graph_key='contact')\n",
    "    sh.metrics.quadratic_entropy(so, spl, attr, local=False, graph_key='contact')\n",
    "\n",
    "# estimated values are saved in so.spl\n",
    "so.spl[[f'richness_{attr}', f'shannon_{attr}']]"
   ]
  },
  {
   "cell_type": "code",
   "execution_count": null,
   "id": "a91a209b-f7c5-4358-9b2c-365c23028036",
   "metadata": {},
   "outputs": [],
   "source": [
    "# %%\n",
    "fig, axs = plt.subplots(1, 2, figsize=(10, 4), dpi=100)\n",
    "sh.pl.spatial(so, spl, attr, mode='mask', ax=axs.flat[0])\n",
    "# sh.pl.spatial(so, sel1[0], attr, mode='mask', ax=axs.flat[0])\n",
    "# sh.pl.spatial(so, sel2[0], attr, mode='mask', ax=axs.flat[1])\n",
    "fig.show()"
   ]
  },
  {
   "cell_type": "code",
   "execution_count": null,
   "id": "f30faabf-6616-4944-8f46-7db738a5fe64",
   "metadata": {},
   "outputs": [],
   "source": [
    "# %% compute metrics at a cell level for all samples - this will take some time\n",
    "for spl in tqdm(spls):\n",
    "    sh.metrics.richness(so, spl, attr, local=True, graph_key='contact')\n",
    "    sh.metrics.shannon(so, spl, attr, local=True, graph_key='contact')\n",
    "    sh.metrics.quadratic_entropy(so, spl, attr, local=True, graph_key='contact', metric='cosine')\n",
    "\n",
    "# estimated values are saved in so.obs\n",
    "so.obs[spl].columns\n",
    "so.obs[spl][['richness_group_id_contact', 'shannon_group_id_contact', 'quadratic_group_id_contact']].head()"
   ]
  },
  {
   "cell_type": "code",
   "execution_count": null,
   "id": "7f203fc3-1d50-4eae-87b4-f8638ae6c11e",
   "metadata": {},
   "outputs": [],
   "source": [
    "# %% visualize cell-level scores\n",
    "fig, axs = plt.subplots(1, 4, figsize=(25, 12), dpi=300)\n",
    "axs = axs.flat\n",
    "sh.pl.spatial(so, spl, attr, mode='mask', ax=axs[0])\n",
    "sh.pl.spatial(so, spl, f'richness_{attr}_contact', mode='mask', ax=axs[1], cbar_title=False, background_color='black')\n",
    "sh.pl.spatial(so, spl, f'shannon_{attr}_contact', mode='mask', ax=axs[2], cbar_title=False, background_color='black')\n",
    "sh.pl.spatial(so, spl, f'quadratic_{attr}_contact', mode='mask', ax=axs[3], cbar_title=False, background_color='black')\n",
    "fig.show()"
   ]
  },
  {
   "cell_type": "code",
   "execution_count": null,
   "id": "9f8d92a0-ab83-48bd-b712-0f8b588436c7",
   "metadata": {},
   "outputs": [],
   "source": [
    "# %%\n",
    "fig, ax = plt.subplots(figsize=(6, 4))\n",
    "sns.histplot(so.obs[spl][f'quadratic_{attr}_contact'], stat='probability', ax=ax)\n",
    "ax.set_title(\n",
    "    f\"Quadratic entropy, PatientID {spl}\\n Cell-level median: {so.obs[spl][f'quadratic_{attr}_contact'].median():.3f}, 'Sample-level: {so.spl.loc[spl][f'quadratic_{attr}']:.3f}\")\n",
    "fig.show()\n",
    "\n"
   ]
  },
  {
   "cell_type": "code",
   "execution_count": null,
   "id": "1d948ea4-36dc-474f-8094-4ce0e160e216",
   "metadata": {},
   "outputs": [],
   "source": [
    "# %% immune infiltration\n",
    "\n",
    "for spl in tqdm(spls):\n",
    "    sh.neigh.infiltration(so, spl, 'cell_type', graph_key='contact')\n",
    "\n",
    "so.spl.head()"
   ]
  },
  {
   "cell_type": "code",
   "execution_count": null,
   "id": "d6f189d4-18da-4f3c-86db-32da334c734c",
   "metadata": {},
   "outputs": [],
   "source": [
    "# %%\n",
    "sh.neigh.infiltration(so, spl, 'cell_type', graph_key='radius', local=True)\n",
    "\n",
    "# %%\n",
    "fig, axs = plt.subplots(1, 2, figsize=(16, 8))\n",
    "# here we use the numeric representation of cell_type to be able to plot the cell outline\n",
    "sh.pl.spatial(so, spl, 'cell_type_id', mode='mask', ax=axs[0])\n",
    "sh.pl.infiltration(so, spl, step_size=25, ax=axs[1])\n",
    "fig.show()"
   ]
  },
  {
   "cell_type": "code",
   "execution_count": null,
   "id": "3d215d26-985e-49b4-bbb4-4752b5e6432b",
   "metadata": {},
   "outputs": [],
   "source": [
    "# %%\n",
    "fsave = Path('mibi-final.h5py')\n",
    "so.to_h5py(fsave)"
   ]
  }
 ],
 "metadata": {
  "kernelspec": {
   "display_name": "Python 3 (ipykernel)",
   "language": "python",
   "name": "python3"
  },
  "language_info": {
   "codemirror_mode": {
    "name": "ipython",
    "version": 3
   },
   "file_extension": ".py",
   "mimetype": "text/x-python",
   "name": "python",
   "nbconvert_exporter": "python",
   "pygments_lexer": "ipython3",
   "version": "3.8.12"
  }
 },
 "nbformat": 4,
 "nbformat_minor": 5
}
